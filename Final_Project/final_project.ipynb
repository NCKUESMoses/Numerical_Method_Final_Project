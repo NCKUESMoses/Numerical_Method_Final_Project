{
 "cells": [
  {
   "cell_type": "code",
   "execution_count": null,
   "metadata": {},
   "outputs": [
    {
     "ename": "",
     "evalue": "",
     "output_type": "error",
     "traceback": [
      "\u001b[1;31mRunning cells with 'Python 3.6.13 ('final_project')' requires ipykernel package.\n",
      "Run the following command to install 'ipykernel' into the Python environment. \n",
      "Command: 'conda install -n final_project ipykernel --update-deps --force-reinstall'"
     ]
    }
   ],
   "source": [
    "from tkinter import *\n",
    "from tkinter import ttk\n",
    "from tkinter import filedialog\n",
    "from tkinter.filedialog import askopenfilename, asksaveasfilename\n",
    "from PIL import Image, ImageTk, ImageFilter, ImageEnhance, ImageFont, ImageDraw\n",
    "import os"
   ]
  },
  {
   "cell_type": "code",
   "execution_count": 14,
   "metadata": {},
   "outputs": [],
   "source": [
    "# create functions\n",
    "def load():\n",
    "    global img_path, img, imgg, print_path\n",
    "    img_path = filedialog.askopenfilename(initialdir=os.getcwd())\n",
    "    img = Image.open(img_path)\n",
    "    img.thumbnail((500, 500))\n",
    "    img1 = ImageTk.PhotoImage(img)\n",
    "    canvas.create_image(325, 265, image=img1)\n",
    "    canvas.image=img1\n",
    "    print_path.set(img_path)\n",
    "\n",
    "def blur(event):\n",
    "    global img1, imgg\n",
    "    for m in range(0, blur_val.get()+1):\n",
    "        imgg = img.filter(ImageFilter.BoxBlur(m))\n",
    "        img1 = ImageTk.PhotoImage(imgg)\n",
    "        canvas.create_image(325, 265, image=img1)\n",
    "        canvas.image=img1\n",
    "\n",
    "def bright(event):\n",
    "    global img1, imgg\n",
    "    for m in range(1, bright_val.get()+1):\n",
    "        imgg = ImageEnhance.Brightness(img).enhance(m)\n",
    "        img1 = ImageTk.PhotoImage(imgg)\n",
    "        canvas.create_image(325, 265, image=img1)\n",
    "        canvas.image=img1\n",
    "\n",
    "def mosaic(event):\n",
    "    global img1, imgg\n",
    "    for m in range(1, mosaic_val.get()+1):\n",
    "        w,h = img.size\n",
    "        imgg = img.resize((int(w/(m)),int(h/(m))))\n",
    "        imgg = imgg.resize((w,h), resample=Image.NEAREST)\n",
    "        img1 = ImageTk.PhotoImage(imgg)\n",
    "        canvas.create_image(325, 265, image=img1)\n",
    "        canvas.image=img1\n",
    "\n",
    "def save():\n",
    "    global imgg\n",
    "    w,h = img.size\n",
    "    float_font = ImageFont.truetype('arial', 20)\n",
    "    float_text = Image.new(mode='RGBA', size=(200, 150), color=(0,0,0,0))\n",
    "    float_draw = ImageDraw.Draw(float_text)\n",
    "    float_draw.text((0,0),'E94086131 STUDIO', fill=(255,255,255), font=float_font)\n",
    "    float_text = float_text.rotate(5, expand=1)\n",
    "    imgg.paste(float_text,(w-200,h-70), float_text)\n",
    "    ext = img_path.split(\".\")[-1]\n",
    "    file = asksaveasfilename(defaultextension =f\".{ext}\",filetypes=[(\"PNG file\",\"*.png\")])\n",
    "    imgg.save(file)\n"
   ]
  },
  {
   "cell_type": "code",
   "execution_count": 15,
   "metadata": {},
   "outputs": [],
   "source": [
    "# contrast border thumbnail \n",
    "win = Tk()\n",
    "win.title(\"Image Editor\")\n",
    "win.geometry(\"750x700\")\n",
    "\n",
    "# -----load frame-----\n",
    "load_frm = Frame(win, height=20)\n",
    "load_frm.grid(row=0, column=0, sticky='nw')\n",
    "\n",
    "load_button = Button(load_frm, text=\"Select Image\", width=12, font=('Arial 14 bold'), command=load)\n",
    "load_button.grid(row=0, column=0, padx=10, pady=10, sticky='nw')\n",
    "\n",
    "print_path = StringVar()\n",
    "load_label = Label(load_frm, textvariable=print_path, font=('Arial 12'))\n",
    "load_label.grid(row=0, column=1, padx=10, pady=15, sticky='nw')\n",
    "\n",
    "# -----image-----\n",
    "canvas = Canvas(win, width=\"650\", height=\"520\", relief=RIDGE, bd=2)\n",
    "canvas.grid(row=1, column=0, padx=10)\n",
    "\n",
    "# -----editor frame-----\n",
    "edi_frm = Frame(win, height=20)\n",
    "edi_frm.grid(row=2, column=0, sticky='nw')\n",
    "\n",
    "blur_label = Label(edi_frm, text=\"Blur:\", font=(\"Arial 14 bold\"), width=9)\n",
    "blur_label.grid(row=0, column=0, sticky=W)\n",
    "blur_val = IntVar()\n",
    "blur_scale = ttk.Scale(edi_frm, from_=0, to=10, variable=blur_val, orient=HORIZONTAL, command=blur) \n",
    "blur_scale.grid(row=0, column=1, sticky=W)\n",
    "\n",
    "bright_label = Label(edi_frm, text=\"bright:\", font=(\"Arial 14 bold\"), width=9)\n",
    "bright_label.grid(row=0, column=2, sticky=W)\n",
    "bright_val = IntVar()\n",
    "bright_scale = ttk.Scale(edi_frm, from_=0, to=10, variable=bright_val, orient=HORIZONTAL, command=bright) \n",
    "bright_scale.grid(row=0, column=3, sticky=W)\n",
    "\n",
    "mosaic_label = Label(edi_frm, text=\"mosaic:\", font=(\"Arial 14 bold\"), width=9)\n",
    "mosaic_label.grid(row=0, column=4, sticky=W)\n",
    "mosaic_val = IntVar()\n",
    "mosaic_scale = ttk.Scale(edi_frm, from_=1, to=30, variable=mosaic_val, orient=HORIZONTAL, command=mosaic) \n",
    "mosaic_scale.grid(row=0, column=5, sticky=W)\n",
    "\n",
    "end_frm = Frame(win, width=700, height=30)\n",
    "end_frm.grid(row=3, sticky=E)\n",
    "\n",
    "\n",
    "save_button = Button(end_frm, text=\"save\", width=8, font=('Arial 14 bold'), command=save)\n",
    "save_button.grid(row=0, column=0, padx=5)\n",
    "\n",
    "exit_button = Button(end_frm, text=\"leave\", width=8, font=('Arial 14 bold'), command=win.destroy)\n",
    "exit_button.grid(row=0, column=1, padx=5)\n",
    "\n",
    "win.mainloop()"
   ]
  },
  {
   "cell_type": "code",
   "execution_count": null,
   "metadata": {},
   "outputs": [],
   "source": []
  }
 ],
 "metadata": {
  "kernelspec": {
   "display_name": "Python 3.6.13 ('final_project')",
   "language": "python",
   "name": "python3"
  },
  "language_info": {
   "codemirror_mode": {
    "name": "ipython",
    "version": 3
   },
   "file_extension": ".py",
   "mimetype": "text/x-python",
   "name": "python",
   "nbconvert_exporter": "python",
   "pygments_lexer": "ipython3",
   "version": "3.6.13"
  },
  "orig_nbformat": 4,
  "vscode": {
   "interpreter": {
    "hash": "75b60d1cf6dcaefb1f6e298f00207229b88a90b69b297f51c301fd5984e9526f"
   }
  }
 },
 "nbformat": 4,
 "nbformat_minor": 2
}
